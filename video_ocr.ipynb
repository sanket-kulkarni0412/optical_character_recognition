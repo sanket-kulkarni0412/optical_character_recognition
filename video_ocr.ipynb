{
 "cells": [
  {
   "cell_type": "code",
   "execution_count": 24,
   "metadata": {},
   "outputs": [],
   "source": [
    "from PIL import Image\n",
    "import cv2\n",
    "import pytesseract\n",
    "import os\n",
    "import imageio"
   ]
  },
  {
   "cell_type": "code",
   "execution_count": 7,
   "metadata": {},
   "outputs": [],
   "source": [
    "pytesseract.pytesseract.tesseract_cmd = 'C:/Program Files/Tesseract-OCR/tesseract.exe'"
   ]
  },
  {
   "cell_type": "code",
   "execution_count": 3,
   "metadata": {},
   "outputs": [],
   "source": [
    "image_frames= 'image_frames'\n",
    "def files():\n",
    "    try:\n",
    "        os.remove(image_frames)\n",
    "    except OSError:\n",
    "        pass\n",
    "\n",
    "    if not os.path.exists(image_frames):\n",
    "        os.makedirs(image_frames)\n",
    "\n",
    "    src_vid= cv2.VideoCapture('Screenrecorder-2022-05-20-11-41-18-124.mp4')\n",
    "    return src_vid"
   ]
  },
  {
   "cell_type": "code",
   "execution_count": 44,
   "metadata": {},
   "outputs": [],
   "source": [
    "def process(src_vid):\n",
    "    index=0\n",
    "    src_vid= cv2.VideoCapture('Screenrecorder-2022-05-20-11-41-18-124.mp4')\n",
    "    while True:\n",
    "        ret, frame = src_vid.read()\n",
    "        if ret==False:\n",
    "            break\n",
    "        name='image_frames/frame'+str(index)+'.jpg'\n",
    "\n",
    "        if index % 100==0:\n",
    "            print('Extracting frame',name)\n",
    "            image=cv2.imwrite(name, frame)\n",
    "        index=index+1\n",
    "        if cv2.waitKey(10) and 0xFF == ord('q'):\n",
    "            break\n",
    "    src_vid.release()\n",
    "    cv2.destroyAllWindows()   "
   ]
  },
  {
   "cell_type": "code",
   "execution_count": 2,
   "metadata": {},
   "outputs": [
    {
     "data": {
      "text/plain": [
       "'4.5.5'"
      ]
     },
     "execution_count": 2,
     "metadata": {},
     "output_type": "execute_result"
    }
   ],
   "source": [
    "def get_text():\n",
    "    for i in os.listdir(image_frames):\n",
    "        my_example=Image.open(image_frames+'/'+i)\n",
    "        text=pytesseract.image_to_string(my_example,lang='eng')\n",
    "        print(text)"
   ]
  },
  {
   "cell_type": "code",
   "execution_count": 5,
   "metadata": {},
   "outputs": [
    {
     "data": {
      "text/plain": [
       "<VideoCapture 000001A27FBEDA30>"
      ]
     },
     "execution_count": 5,
     "metadata": {},
     "output_type": "execute_result"
    }
   ],
   "source": [
    "files()"
   ]
  },
  {
   "cell_type": "code",
   "execution_count": 46,
   "metadata": {},
   "outputs": [
    {
     "name": "stdout",
     "output_type": "stream",
     "text": [
      "Extracting frame image_frames/frame0.jpg\n",
      "Extracting frame image_frames/frame100.jpg\n",
      "Extracting frame image_frames/frame200.jpg\n",
      "Extracting frame image_frames/frame300.jpg\n",
      "Extracting frame image_frames/frame400.jpg\n",
      "Extracting frame image_frames/frame500.jpg\n"
     ]
    }
   ],
   "source": [
    "process('Screenrecorder-2022-05-20-11-41-18-124.mp4')"
   ]
  },
  {
   "cell_type": "code",
   "execution_count": 47,
   "metadata": {},
   "outputs": [
    {
     "name": "stdout",
     "output_type": "stream",
     "text": [
      "11:41 AM | 2.1KB/s © mi all atl\n",
      "\n",
      "import pandas as pd\n",
      "\n",
      "df_train = pd.read_csv('../../Downloads/titanic/train.csv')\n",
      "df_test = pd.read_csv('../../Downloads/titanic/test.csv')\n",
      "df_test\n",
      "\n",
      "df_train.info()\n",
      "\n",
      "df_train['Age'] fillna(df_train['Age'].median(), inplace = True)\n",
      "df_test['Age'].fillna(df_train['Age'].median(), inplace = True)\n",
      "\n",
      "df_train['Embarked'].fillna(df_train['Embarked'].mode()[0], inplace = True)\n",
      "df_test['Embarked' fillna(df_test['Embarked'].mode()[0], inplace = True)\n",
      "\n",
      "df_train['Fare’].fillna(df_train['Fare'].median(), inplace = True)\n",
      "df_test['Fare'].fillna(df_test['Fare'].median(), inplace = True)\n",
      "\n",
      "df_train['Cabin'] = df_train['Cabin'].isna().astype(int)\n",
      "df_test['Cabin'] = df_test['Cabin'].isna().astype(int)\n",
      "\n",
      "df_train.info(), df_test.info()\n",
      "\n",
      "df_train['Sex']=df_train['Sex'].map({'male':0,'female':1})\n",
      "df_test['Sex']=df_test['Sex'].map({'male':0,'female':1})\n",
      "\n",
      "temp = pd.get_dummies(df_train['Embarked'])\n",
      "df_train=pd.concat([df_train,temp], axis=1)\n",
      "temp = pd.get_dummies(df_test['Embarked'])\n",
      "\n",
      "\n",
      "11:41 AM|0.2KB/s © mi ell Ball\n",
      "\n",
      "import pandas as pd\n",
      "\n",
      "df_train = pd.read_csv('../../Downloads/titanic/train.csv')\n",
      "df_test = pd.read_csv('../../Downloads/titanic/test.csv')\n",
      "df_test\n",
      "\n",
      "df_train.info()\n",
      "\n",
      "df_train['Age'].fillna(df_train['Age'].median(), inplace = True)\n",
      "df_test['Age'fillna(df_train['Age'].median(), inplace = True)\n",
      "\n",
      "df_train['Embarked'].fillna(df_train['Embarked'].mode()[0], inplace = True)\n",
      "\n",
      "df_test['Embarked' fillna(df_test['Embarked'].mode()[0], inplace = True)\n",
      "\n",
      "df_train['Fare'].fillna(df_train['Fare'].median(), inplace = True)\n",
      "df_test['Fare’].fillna(df_test['Fare'].median(), inplace = True)\n",
      "\n",
      "df_train['Cabin'] = df_train['Cabin'].isna().astype(int)\n",
      "\n",
      "df_test['Cabin'] = df_test['Cabin’].isna().astype(int)\n",
      "\n",
      "df_train.info(), df_test.info()\n",
      "\n",
      "df_train['Sex']=df_train['Sex'].map({'male':0,'female':1})\n",
      "df_test['Sex']=df_test['Sex'].map({'male':0,'female’:1})\n",
      "\n",
      "temp = pd.get_dummies(df_train['Embarked'])\n",
      "df_train=pd.concat([df_train,temp], axis=1)\n",
      "temp = pd.get_dummies(df_test['Embarked'])\n",
      "\n",
      "df_test=pd.concat([df_test,temp], axis=1)\n",
      "\n",
      "\n",
      "df_test['Age']-fillna(df_train['Age'].median(), inplace = True)\n",
      "\n",
      "df_train['Embarked' fillna(df_train['Embarked'].mode()[0], inplace = True)\n",
      "df_test['Embarked'].fillna(df_test['Embarked'].mode()[0], inplace = True)\n",
      "\n",
      "df_train['Fare'] fillna(df_train['Fare'].median(), inplace = True)\n",
      "df_test['Fare'].fillna(df_test['Fare'].median(), inplace = True)\n",
      "\n",
      "df_train['Cabin’] = df_train['Cabin'].isna().astype(int)\n",
      "df_test['Cabin'] = df_test['Cabin'].isna().astype(int)\n",
      "\n",
      "df_train.info(), df_test.info()\n",
      "\n",
      "df_train['Sex']=df_train['Sex'].map({‘male':0,'female':1})\n",
      "df_test['Sex']=df_test['Sex'].map({'male':0,'female':1})\n",
      "\n",
      "temp = pd.get_dummies(df_train['Embarked'])\n",
      "df_train=pd.concat([df_train,temp], axis=1)\n",
      "temp = pd.get_dummies(df_test['Embarked'])\n",
      "\n",
      "df_test=pd.concat([df_test,temp], axis=1)\n",
      "\n",
      "ser1=df_train['Name'].apply(lambda X: X.split(',’)[1]-split()[0])\n",
      "ser2=df_test[/Name'].apply(lambda X: X.split(',')[1]-split()[0])\n",
      "\n",
      "titles = ser1.value_counts()[:4].index\n",
      "\n",
      "df_train['Title']=ser1.apply(lambda title: title if title in titles else ‘other’ )\n",
      "df_test['Title']=ser2.apply(lambda title: title if title in titles else ‘other’ )\n",
      "\n",
      "df_train['Title'].value_counts()\n",
      "\n",
      "df_test['Title'].value_counts()\n",
      "\n",
      "df_train['Title']=ser1 .apply(lambda title: title if title in titles else ‘other’ )\n",
      "df_test['Title']=ser2.apply(lambda title: title if title in titles else ‘other’ )\n",
      "\n",
      "df_train['Title'].value_counts()\n",
      "\n",
      "df_test['Title'].value_counts()\n",
      "\n",
      "temp = pd.get_dummies(df_train[Title’])\n",
      "df_train=pd.concat([df_train,temp], axis = 1)\n",
      "\n",
      "temp = pd.get_dummies(df_test['Title’])\n",
      "df_test=pd.concat([df_test,temp], axis = 1)\n",
      "\n",
      "df_train.corr()['Survived']\n",
      "\n",
      "df_train.info(), df_test.info()\n",
      "\n",
      "selected = ['Pclass’, 'Sex’, ‘Age’, 'SibSp','Parch’, 'Fare’,'Cabin’, 'C’, 'Q',\n",
      "'S','Master.','Miss.','Mr.','Mrs.','other']\n",
      "\n",
      "X = df_train[selected]\n",
      "y = df_train['Survived’]\n",
      "\n",
      "from sklearn.model_selection import train_test_split\n",
      "Xtrain,Xval,ytrain,yval = train_test_split(X,y,test_size=0.25, random_state=1(\n",
      "\n",
      "X = df_train[selected]\n",
      "y = df_train['Survived’]\n",
      "\n",
      "from sklearn.model_selection import train_test_split\n",
      "Xtrain,Xval,ytrain,yval = train_test_split(X,y,test_size=0.25, random_state=1(\n",
      "\n",
      "from sklearn.ensemble import RandomForestClassifier\n",
      "from sklearn.model_selection import GridSearchCV\n",
      "params={'n_estimators':[10,30,60,90,150], 'min_samples_leaf':[2,3,4,5,6],\n",
      "‘max_depth’:[2,3,4,5,6],\n",
      "\n",
      "‘min_samples_split':[2,3,4,5,6]}\n",
      "grid = GridSearchCV(RandomForestClassifier(), param_grid=params, cv=5,\n",
      "n_jobs=4, scoring='accuracy')\n",
      "grid.fit(Xtrain, ytrain)\n",
      "\n",
      "grid.best_estimator_\n",
      "\n",
      "grid.best_score_\n",
      "\n",
      "model_final = RandomForestClassifier(max_depth=4, min_samples_leaf=3,\n",
      "min_samples_split=5,\n",
      "n_estimators=10)\n",
      "model_final.fit(Xtrain,ytrain)\n",
      "model_final.score(X,y)\n",
      "\n",
      "y_pre = model_final.predict(df_test[selected])\n",
      "y_pre\n",
      "\n",
      "“At tAaat4f' DaccannariA’l\n",
      "\n",
      "11:41 AM | 0.1KB/s © mK rail! 3 cal Co):\n",
      "\n",
      "grid.best_score_\n",
      "\n",
      "model_final = RandomForestClassifier(max_depth=4, min_samples_leaf=3,\n",
      "min_samples_split=5,\n",
      "n_estimators=10)\n",
      "model_final.fit(Xtrain,ytrain)\n",
      "model_final.score(X,y)\n",
      "\n",
      "y_pre = model_final.predict(df_test[selected])\n",
      "y_pre\n",
      "\n",
      "df_test['Passengerld’]\n",
      "\n",
      "df_submit = pd.DataFrame({'Passengerld':df_test['Passengerld'], 'Survived':y\n",
      "df_submit\n",
      "\n",
      "df_submit.to_csv('submit1.csv', index=False)\n",
      "\n",
      "Powered by WPS Office\n",
      "\n",
      "| (CO) <\n",
      "\n",
      "\n"
     ]
    }
   ],
   "source": [
    "\n",
    "get_text()"
   ]
  },
  {
   "cell_type": "code",
   "execution_count": null,
   "metadata": {},
   "outputs": [],
   "source": []
  }
 ],
 "metadata": {
  "interpreter": {
   "hash": "49851b1f921efc7c6c112bf9424982c8edf2cb542dfc39e2ab51544ac661a8f5"
  },
  "kernelspec": {
   "display_name": "Python 3.8.5 ('base')",
   "language": "python",
   "name": "python3"
  },
  "language_info": {
   "codemirror_mode": {
    "name": "ipython",
    "version": 3
   },
   "file_extension": ".py",
   "mimetype": "text/x-python",
   "name": "python",
   "nbconvert_exporter": "python",
   "pygments_lexer": "ipython3",
   "version": "3.8.5"
  },
  "orig_nbformat": 4
 },
 "nbformat": 4,
 "nbformat_minor": 2
}
